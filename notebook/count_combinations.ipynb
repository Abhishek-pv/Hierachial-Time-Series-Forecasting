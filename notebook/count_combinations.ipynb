{
 "cells": [
  {
   "cell_type": "code",
   "execution_count": 1,
   "metadata": {},
   "outputs": [],
   "source": [
    "import pandas as pd\n",
    "import pickle\n",
    "from natsort import natsorted"
   ]
  },
  {
   "cell_type": "code",
   "execution_count": 2,
   "metadata": {},
   "outputs": [],
   "source": [
    "df = pd.read_csv(\"../data/dataset-02.csv\")"
   ]
  },
  {
   "cell_type": "code",
   "execution_count": 3,
   "metadata": {},
   "outputs": [
    {
     "data": {
      "text/html": [
       "<div>\n",
       "<style scoped>\n",
       "    .dataframe tbody tr th:only-of-type {\n",
       "        vertical-align: middle;\n",
       "    }\n",
       "\n",
       "    .dataframe tbody tr th {\n",
       "        vertical-align: top;\n",
       "    }\n",
       "\n",
       "    .dataframe thead th {\n",
       "        text-align: right;\n",
       "    }\n",
       "</style>\n",
       "<table border=\"1\" class=\"dataframe\">\n",
       "  <thead>\n",
       "    <tr style=\"text-align: right;\">\n",
       "      <th></th>\n",
       "      <th>time</th>\n",
       "      <th>Unnamed: 0</th>\n",
       "      <th>year</th>\n",
       "      <th>month</th>\n",
       "      <th>week</th>\n",
       "      <th>province</th>\n",
       "      <th>city</th>\n",
       "      <th>store</th>\n",
       "      <th>category</th>\n",
       "      <th>department</th>\n",
       "      <th>class</th>\n",
       "      <th>vendor</th>\n",
       "      <th>size</th>\n",
       "      <th>totalQuantity</th>\n",
       "      <th>totalSales</th>\n",
       "      <th>Holiday</th>\n",
       "    </tr>\n",
       "  </thead>\n",
       "  <tbody>\n",
       "    <tr>\n",
       "      <th>0</th>\n",
       "      <td>2012-01-08</td>\n",
       "      <td>0</td>\n",
       "      <td>2012</td>\n",
       "      <td>1</td>\n",
       "      <td>1</td>\n",
       "      <td>province3</td>\n",
       "      <td>city31</td>\n",
       "      <td>store40</td>\n",
       "      <td>category1</td>\n",
       "      <td>department1</td>\n",
       "      <td>class7</td>\n",
       "      <td>vendor2</td>\n",
       "      <td>size26</td>\n",
       "      <td>1.0</td>\n",
       "      <td>424.971081</td>\n",
       "      <td>True</td>\n",
       "    </tr>\n",
       "    <tr>\n",
       "      <th>1</th>\n",
       "      <td>2012-01-08</td>\n",
       "      <td>1</td>\n",
       "      <td>2012</td>\n",
       "      <td>1</td>\n",
       "      <td>1</td>\n",
       "      <td>province2</td>\n",
       "      <td>city15</td>\n",
       "      <td>store33</td>\n",
       "      <td>category1</td>\n",
       "      <td>department1</td>\n",
       "      <td>class7</td>\n",
       "      <td>vendor2</td>\n",
       "      <td>size29</td>\n",
       "      <td>-1.0</td>\n",
       "      <td>-424.971081</td>\n",
       "      <td>True</td>\n",
       "    </tr>\n",
       "    <tr>\n",
       "      <th>2</th>\n",
       "      <td>2012-01-08</td>\n",
       "      <td>3</td>\n",
       "      <td>2012</td>\n",
       "      <td>1</td>\n",
       "      <td>1</td>\n",
       "      <td>province1</td>\n",
       "      <td>city18</td>\n",
       "      <td>store51</td>\n",
       "      <td>category1</td>\n",
       "      <td>department1</td>\n",
       "      <td>class7</td>\n",
       "      <td>vendor2</td>\n",
       "      <td>size29</td>\n",
       "      <td>1.0</td>\n",
       "      <td>424.971081</td>\n",
       "      <td>True</td>\n",
       "    </tr>\n",
       "    <tr>\n",
       "      <th>3</th>\n",
       "      <td>2012-01-08</td>\n",
       "      <td>4</td>\n",
       "      <td>2012</td>\n",
       "      <td>1</td>\n",
       "      <td>1</td>\n",
       "      <td>province3</td>\n",
       "      <td>city31</td>\n",
       "      <td>store62</td>\n",
       "      <td>category1</td>\n",
       "      <td>department1</td>\n",
       "      <td>class7</td>\n",
       "      <td>vendor2</td>\n",
       "      <td>size29</td>\n",
       "      <td>1.0</td>\n",
       "      <td>424.971081</td>\n",
       "      <td>True</td>\n",
       "    </tr>\n",
       "    <tr>\n",
       "      <th>4</th>\n",
       "      <td>2012-01-08</td>\n",
       "      <td>5</td>\n",
       "      <td>2012</td>\n",
       "      <td>1</td>\n",
       "      <td>1</td>\n",
       "      <td>province3</td>\n",
       "      <td>city31</td>\n",
       "      <td>store40</td>\n",
       "      <td>category1</td>\n",
       "      <td>department1</td>\n",
       "      <td>class7</td>\n",
       "      <td>vendor2</td>\n",
       "      <td>size33</td>\n",
       "      <td>1.0</td>\n",
       "      <td>424.971081</td>\n",
       "      <td>True</td>\n",
       "    </tr>\n",
       "  </tbody>\n",
       "</table>\n",
       "</div>"
      ],
      "text/plain": [
       "         time  Unnamed: 0  year  month  week   province    city    store  \\\n",
       "0  2012-01-08           0  2012      1     1  province3  city31  store40   \n",
       "1  2012-01-08           1  2012      1     1  province2  city15  store33   \n",
       "2  2012-01-08           3  2012      1     1  province1  city18  store51   \n",
       "3  2012-01-08           4  2012      1     1  province3  city31  store62   \n",
       "4  2012-01-08           5  2012      1     1  province3  city31  store40   \n",
       "\n",
       "    category   department   class   vendor    size  totalQuantity  totalSales  \\\n",
       "0  category1  department1  class7  vendor2  size26            1.0  424.971081   \n",
       "1  category1  department1  class7  vendor2  size29           -1.0 -424.971081   \n",
       "2  category1  department1  class7  vendor2  size29            1.0  424.971081   \n",
       "3  category1  department1  class7  vendor2  size29            1.0  424.971081   \n",
       "4  category1  department1  class7  vendor2  size33            1.0  424.971081   \n",
       "\n",
       "   Holiday  \n",
       "0     True  \n",
       "1     True  \n",
       "2     True  \n",
       "3     True  \n",
       "4     True  "
      ]
     },
     "execution_count": 3,
     "metadata": {},
     "output_type": "execute_result"
    }
   ],
   "source": [
    "df.head()"
   ]
  },
  {
   "cell_type": "code",
   "execution_count": 4,
   "metadata": {},
   "outputs": [],
   "source": [
    "df = df.drop(columns=\"Unnamed: 0\")"
   ]
  },
  {
   "cell_type": "code",
   "execution_count": 5,
   "metadata": {},
   "outputs": [
    {
     "name": "stdout",
     "output_type": "stream",
     "text": [
      "<class 'pandas.core.frame.DataFrame'>\n",
      "RangeIndex: 2348930 entries, 0 to 2348929\n",
      "Data columns (total 15 columns):\n",
      " #   Column         Dtype  \n",
      "---  ------         -----  \n",
      " 0   time           object \n",
      " 1   year           int64  \n",
      " 2   month          int64  \n",
      " 3   week           int64  \n",
      " 4   province       object \n",
      " 5   city           object \n",
      " 6   store          object \n",
      " 7   category       object \n",
      " 8   department     object \n",
      " 9   class          object \n",
      " 10  vendor         object \n",
      " 11  size           object \n",
      " 12  totalQuantity  float64\n",
      " 13  totalSales     float64\n",
      " 14  Holiday        bool   \n",
      "dtypes: bool(1), float64(2), int64(3), object(9)\n",
      "memory usage: 253.1+ MB\n"
     ]
    }
   ],
   "source": [
    "df.info()"
   ]
  },
  {
   "cell_type": "code",
   "execution_count": 6,
   "metadata": {},
   "outputs": [
    {
     "name": "stdout",
     "output_type": "stream",
     "text": [
      "Unique values in each column\n",
      "----------------------------\n",
      "time : 313\n",
      "year : 7\n",
      "month : 12\n",
      "week : 52\n",
      "province : 3\n",
      "city : 44\n",
      "store : 57\n",
      "category : 2\n",
      "department : 14\n",
      "class : 44\n",
      "vendor : 95\n",
      "size : 40\n",
      "totalQuantity : 81\n",
      "totalSales : 42510\n",
      "Holiday : 2\n"
     ]
    }
   ],
   "source": [
    "#unique values in each column\n",
    "print(\"Unique values in each column\")\n",
    "print(\"----------------------------\")\n",
    "for col in list(df):\n",
    "    print(col,\":\",len(df[col].unique()))"
   ]
  },
  {
   "cell_type": "markdown",
   "metadata": {},
   "source": [
    "print all possible combination between space and product hierarchy"
   ]
  },
  {
   "cell_type": "code",
   "execution_count": 7,
   "metadata": {},
   "outputs": [
    {
     "name": "stdout",
     "output_type": "stream",
     "text": [
      "Count of all cross-combination between 2 hierarchy\n",
      "--------------------------------------------------\n",
      "province VS category : 6\n",
      "province VS department : 39\n",
      "province VS class : 127\n",
      "city VS category : 88\n",
      "city VS department : 505\n",
      "city VS class : 1740\n",
      "store VS category : 114\n",
      "store VS department : 641\n",
      "store VS class : 2217\n",
      "Total cross terms: 5477\n",
      "True\n",
      "9\n",
      "Total cross dicts: 5477\n"
     ]
    }
   ],
   "source": [
    "space = [\"province\", \"city\",\"store\"]\n",
    "prod = [\"category\",\"department\",\"class\"]\n",
    "time = [\"year\", \"weekly\",\"monthly\",\"quarterly\"]\n",
    "total = 0\n",
    "all_cross_terms = []\n",
    "cross_groups = []\n",
    "print(\"Count of all cross-combination between 2 hierarchy\")\n",
    "print(\"--------------------------------------------------\")\n",
    "for x in space:\n",
    "    for y in prod:\n",
    "        grp_obj = df.groupby([x,y])\n",
    "        grps = grp_obj.ngroups\n",
    "        all_cross_terms.extend(grp_obj.groups.keys())\n",
    "        cross_groups.append(dict(tuple(grp_obj)))\n",
    "        total = total + grps\n",
    "        print(x,\"VS\",y,\":\", grps)\n",
    "print(\"Total cross terms:\", total)\n",
    "print(total == len(all_cross_terms))\n",
    "print(len(cross_groups))\n",
    "\n",
    "cross_dict = {}\n",
    "[cross_dict.update(dic) for dic in cross_groups];\n",
    "print('Total cross dicts:', len(cross_dict))"
   ]
  },
  {
   "cell_type": "markdown",
   "metadata": {},
   "source": [
    "Get all individual combinations"
   ]
  },
  {
   "cell_type": "code",
   "execution_count": 8,
   "metadata": {},
   "outputs": [
    {
     "name": "stdout",
     "output_type": "stream",
     "text": [
      "Completed: ['province', 'city', 'store']\n",
      "Completed: ['category', 'department', 'class']\n",
      "Total group dicts: 164\n"
     ]
    }
   ],
   "source": [
    "groups = []\n",
    "group_terms = []\n",
    "for x in space:\n",
    "    grp_obj = df.groupby(x)\n",
    "    groups.append(dict(tuple(grp_obj)))\n",
    "    group_terms.extend(grp_obj.groups.keys())\n",
    "print('Completed:',space)\n",
    "\n",
    "for y in prod:\n",
    "    grp_obj = df.groupby(y)\n",
    "    groups.append(dict(tuple(grp_obj)))\n",
    "    group_terms.extend(grp_obj.groups.keys())\n",
    "print('Completed:',prod)\n",
    "\n",
    "group_dict = {}\n",
    "[group_dict.update(dic) for dic in groups];\n",
    "print('Total group dicts:',len(group_dict))\n"
   ]
  },
  {
   "cell_type": "markdown",
   "metadata": {},
   "source": [
    "Merge individual combinations and cross terms"
   ]
  },
  {
   "cell_type": "code",
   "execution_count": 9,
   "metadata": {},
   "outputs": [
    {
     "name": "stdout",
     "output_type": "stream",
     "text": [
      "Total terms: 5641\n"
     ]
    }
   ],
   "source": [
    "all_terms = group_terms.copy()\n",
    "all_terms.extend(all_cross_terms)\n",
    "print('Total terms:',len(all_terms))"
   ]
  },
  {
   "cell_type": "code",
   "execution_count": 10,
   "metadata": {},
   "outputs": [
    {
     "name": "stdout",
     "output_type": "stream",
     "text": [
      "Total groupings: 5641\n",
      "True\n"
     ]
    }
   ],
   "source": [
    "complete_dict = group_dict\n",
    "complete_dict.update(cross_dict)\n",
    "print('Total groupings:',len(complete_dict))\n",
    "print(len(complete_dict) == len(all_terms))\n"
   ]
  },
  {
   "cell_type": "code",
   "execution_count": 12,
   "metadata": {},
   "outputs": [
    {
     "data": {
      "text/plain": [
       "(164, 5477, 5641)"
      ]
     },
     "execution_count": 12,
     "metadata": {},
     "output_type": "execute_result"
    }
   ],
   "source": [
    "len(group_terms), len(all_cross_terms), len(all_terms)"
   ]
  },
  {
   "cell_type": "markdown",
   "metadata": {},
   "source": [
    "count data points in each cross-combinations"
   ]
  },
  {
   "cell_type": "code",
   "execution_count": null,
   "metadata": {},
   "outputs": [],
   "source": [
    "print(\"SPACE      PRODUCT        COUNT\")\n",
    "print(\"-------------------------------\")\n",
    "for x in space:\n",
    "    for y in prod:\n",
    "        print(df.groupby([x,y]).size())"
   ]
  },
  {
   "cell_type": "markdown",
   "metadata": {},
   "source": [
    "find combinations that do not exist"
   ]
  },
  {
   "cell_type": "code",
   "execution_count": null,
   "metadata": {},
   "outputs": [],
   "source": [
    "grp = list(df.groupby([\"province\",\"department\"]).groups.keys())\n",
    "natsorted(grp)"
   ]
  },
  {
   "cell_type": "markdown",
   "metadata": {},
   "source": [
    "we can see above that province1+department14, province3+department6, province3+department14 do not exist."
   ]
  },
  {
   "cell_type": "code",
   "execution_count": null,
   "metadata": {},
   "outputs": [],
   "source": [
    "# save the cross_terms to a file. Need to run only once\n",
    "with open(\"../data/cross_terms.pickle\", \"wb\") as f:\n",
    "    pickle.dump(all_cross_terms, f)"
   ]
  },
  {
   "cell_type": "code",
   "execution_count": null,
   "metadata": {},
   "outputs": [],
   "source": [
    "# save the all terms to a file. Need to run only once\n",
    "with open(\"../data/all_terms.pickle\", \"wb\") as f:\n",
    "    pickle.dump(all_terms, f)"
   ]
  },
  {
   "cell_type": "code",
   "execution_count": null,
   "metadata": {},
   "outputs": [],
   "source": []
  }
 ],
 "metadata": {
  "kernelspec": {
   "display_name": "Python 3",
   "language": "python",
   "name": "python3"
  },
  "language_info": {
   "codemirror_mode": {
    "name": "ipython",
    "version": 3
   },
   "file_extension": ".py",
   "mimetype": "text/x-python",
   "name": "python",
   "nbconvert_exporter": "python",
   "pygments_lexer": "ipython3",
   "version": "3.7.7"
  }
 },
 "nbformat": 4,
 "nbformat_minor": 2
}
