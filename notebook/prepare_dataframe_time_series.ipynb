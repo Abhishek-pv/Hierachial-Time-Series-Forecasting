{
 "cells": [
  {
   "cell_type": "code",
   "execution_count": 2,
   "metadata": {},
   "outputs": [],
   "source": [
    "import pickle\n",
    "import datetime\n"
   ]
  },
  {
   "cell_type": "code",
   "execution_count": null,
   "metadata": {},
   "outputs": [],
   "source": [
    "# create dataframe for all the combinations of class and store\n",
    "gb = df.groupby(by=[\"store\", \"class\"])\n",
    "\n",
    "# store in dictionary\n",
    "gb_dict = dict(tuple(gb))\n",
    "len(gb_dict)\n",
    "\n",
    "# save the dictionary as file. Need to run only once\n",
    "with open(\"store_class_dictionary.pickle\", \"wb\") as f:\n",
    "    pickle.dump(gb_dict, f)\n",
    "\n",
    "# load the dictionary from file\n",
    "gb_dict = pickle.load( open( \"store_class_dictionary.pickle\", \"rb\" ) )\n",
    "\n",
    "# set zero values in totalSales for dates with no sales\n",
    "for key, val in gb_dict.items():\n",
    "    tmp = gb_dict[key]\n",
    "    tmp2 = tmp.groupby(tmp.index).agg({'totalSales':'sum'})\n",
    "    start = datetime.datetime(2012, 1, 8)\n",
    "    end = datetime.datetime(2018, 1, 7)\n",
    "\n",
    "    rang = pd.date_range(start, end, freq=\"W\")\n",
    "    indx = pd.Series([0]*314, rang)\n",
    "    table2 = pd.DataFrame(indx, columns=[\"totalSales\"])\n",
    "\n",
    "    chk = pd.merge(tmp2, table2, left_index=True, right_index=True, how=\"right\")\n",
    "    chk = chk.drop(columns=\"totalSales_y\")\n",
    "    chk = chk.rename(columns={\"totalSales_x\":\"totalSales\"})\n",
    "    chk = chk.fillna(0)\n",
    "    gb_dict[key] = chk"
   ]
  },
  {
   "cell_type": "code",
   "execution_count": 3,
   "metadata": {},
   "outputs": [],
   "source": [
    "# save the updated dataframes as dictionary. Need to run only once\n",
    "with open(\"store_class_dictionary_updated.pickle\", \"wb\") as f:\n",
    "    pickle.dump(gb_dict, f)\n",
    "\n",
    "# load the dictionary from file\n",
    "gb_dict = pickle.load( open( \"store_class_dictionary_updated.pickle\", \"rb\" ) )"
   ]
  },
  {
   "cell_type": "code",
   "execution_count": 7,
   "metadata": {},
   "outputs": [
    {
     "data": {
      "text/html": [
       "<div>\n",
       "<style scoped>\n",
       "    .dataframe tbody tr th:only-of-type {\n",
       "        vertical-align: middle;\n",
       "    }\n",
       "\n",
       "    .dataframe tbody tr th {\n",
       "        vertical-align: top;\n",
       "    }\n",
       "\n",
       "    .dataframe thead th {\n",
       "        text-align: right;\n",
       "    }\n",
       "</style>\n",
       "<table border=\"1\" class=\"dataframe\">\n",
       "  <thead>\n",
       "    <tr style=\"text-align: right;\">\n",
       "      <th></th>\n",
       "      <th>totalSales</th>\n",
       "    </tr>\n",
       "  </thead>\n",
       "  <tbody>\n",
       "    <tr>\n",
       "      <th>2012-01-08</th>\n",
       "      <td>645.384653</td>\n",
       "    </tr>\n",
       "    <tr>\n",
       "      <th>2012-01-15</th>\n",
       "      <td>1667.886501</td>\n",
       "    </tr>\n",
       "    <tr>\n",
       "      <th>2012-01-22</th>\n",
       "      <td>2942.299777</td>\n",
       "    </tr>\n",
       "    <tr>\n",
       "      <th>2012-01-29</th>\n",
       "      <td>4589.616249</td>\n",
       "    </tr>\n",
       "    <tr>\n",
       "      <th>2012-02-05</th>\n",
       "      <td>4279.137377</td>\n",
       "    </tr>\n",
       "    <tr>\n",
       "      <th>...</th>\n",
       "      <td>...</td>\n",
       "    </tr>\n",
       "    <tr>\n",
       "      <th>2017-12-10</th>\n",
       "      <td>713.451450</td>\n",
       "    </tr>\n",
       "    <tr>\n",
       "      <th>2017-12-17</th>\n",
       "      <td>431.327791</td>\n",
       "    </tr>\n",
       "    <tr>\n",
       "      <th>2017-12-24</th>\n",
       "      <td>1318.981672</td>\n",
       "    </tr>\n",
       "    <tr>\n",
       "      <th>2017-12-31</th>\n",
       "      <td>1480.327836</td>\n",
       "    </tr>\n",
       "    <tr>\n",
       "      <th>2018-01-07</th>\n",
       "      <td>35.640432</td>\n",
       "    </tr>\n",
       "  </tbody>\n",
       "</table>\n",
       "<p>314 rows × 1 columns</p>\n",
       "</div>"
      ],
      "text/plain": [
       "             totalSales\n",
       "2012-01-08   645.384653\n",
       "2012-01-15  1667.886501\n",
       "2012-01-22  2942.299777\n",
       "2012-01-29  4589.616249\n",
       "2012-02-05  4279.137377\n",
       "...                 ...\n",
       "2017-12-10   713.451450\n",
       "2017-12-17   431.327791\n",
       "2017-12-24  1318.981672\n",
       "2017-12-31  1480.327836\n",
       "2018-01-07    35.640432\n",
       "\n",
       "[314 rows x 1 columns]"
      ]
     },
     "execution_count": 7,
     "metadata": {},
     "output_type": "execute_result"
    }
   ],
   "source": [
    "gb_dict[(\"store1\", \"class1\")]"
   ]
  },
  {
   "cell_type": "code",
   "execution_count": null,
   "metadata": {},
   "outputs": [],
   "source": []
  }
 ],
 "metadata": {
  "kernelspec": {
   "display_name": "Python 3",
   "language": "python",
   "name": "python3"
  },
  "language_info": {
   "codemirror_mode": {
    "name": "ipython",
    "version": 3
   },
   "file_extension": ".py",
   "mimetype": "text/x-python",
   "name": "python",
   "nbconvert_exporter": "python",
   "pygments_lexer": "ipython3",
   "version": "3.7.6"
  }
 },
 "nbformat": 4,
 "nbformat_minor": 4
}
